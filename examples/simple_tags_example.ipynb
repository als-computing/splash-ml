{
 "cells": [
  {
   "cell_type": "code",
   "execution_count": 1,
   "metadata": {},
   "outputs": [],
   "source": [
    "from datetime import datetime\n",
    "import requests\n",
    "from enum import Enum\n",
    "from pydantic import BaseModel, Field\n",
    "from typing import Any, List, Optional"
   ]
  },
  {
   "cell_type": "code",
   "execution_count": 2,
   "metadata": {},
   "outputs": [],
   "source": [
    "file_uri = '/path/to/file'\n",
    "mask1 = {'fill': 'toself', 'x': [0, 1, 2, 0], 'y': [0, 2, 0, 0], 'type': 'scatter'}\n",
    "mask2 = {'fill': 'toself', 'x': [3,3,5,5,3], 'y': [0.5,1.5,1.5,0.5,0.5], 'type': 'scatter'}\n",
    "SPLASH_URI = 'http://localhost:8087/api/v0'"
   ]
  },
  {
   "cell_type": "code",
   "execution_count": 3,
   "metadata": {},
   "outputs": [],
   "source": [
    "class Locator(BaseModel):\n",
    "    spec: str = Field(description=\"Description of the specification for this locator\")\n",
    "    path: Any = Field(description=\"Locator information defined by the spec field\")\n",
    "\n",
    "\n",
    "class TaggingEvent(BaseModel, extra='forbid'):\n",
    "    tagger_id: str\n",
    "    run_time: datetime\n",
    "    accuracy: Optional[float] = Field(ge=0.0, le=1.0, default=None)\n",
    "\n",
    "\n",
    "class Tag(BaseModel):\n",
    "    name: str = Field(description=\"name of the tag\")\n",
    "    locator: Optional[Locator] = Field(description=\"optional location information, \"\n",
    "                                                   \"for indicating a subset of a dataset that \"\n",
    "                                                   \"this tag applies to\", default=None)\n",
    "\n",
    "    confidence: Optional[float] = Field(description=\"confidence provided for this tag\", default=None)\n",
    "    event_id: Optional[str] = Field(description=\"id of event where this tag was created\", default=None)\n",
    "\n",
    "\n",
    "class DatasetType(str, Enum):\n",
    "    tiled = \"tiled\"\n",
    "    file = \"file\"\n",
    "    web = \"web\"\n",
    "\n",
    "\n",
    "class Dataset(BaseModel):\n",
    "    project: str = None\n",
    "    type: DatasetType = None\n",
    "    uri: str = None\n",
    "    tags: Optional[List[Tag]] = None"
   ]
  },
  {
   "cell_type": "markdown",
   "metadata": {},
   "source": [
    "### Posting a new tagging event for version control"
   ]
  },
  {
   "cell_type": "code",
   "execution_count": 4,
   "metadata": {},
   "outputs": [
    {
     "name": "stdout",
     "output_type": "stream",
     "text": [
      "{'uid': '2d9f1c33-8056-40fa-8f60-44672c9238bb'}\n"
     ]
    }
   ],
   "source": [
    "new_tagging_event = TaggingEvent(tagger_id='username', \n",
    "                                 run_time=datetime.utcnow())\n",
    "response = requests.post(f'{SPLASH_URI}/events', json=new_tagging_event.model_dump(mode='json'))\n",
    "print(response.json())\n",
    "event_id = response.json()['uid']\n"
   ]
  },
  {
   "cell_type": "markdown",
   "metadata": {},
   "source": [
    "### Posting a data set with a set of tags"
   ]
  },
  {
   "cell_type": "code",
   "execution_count": 5,
   "metadata": {},
   "outputs": [
    {
     "name": "stdout",
     "output_type": "stream",
     "text": [
      "Status code: 200, dataset uid: 38d1fff3-a480-4ee8-bb65-8c61d1381bcd\n"
     ]
    }
   ],
   "source": [
    "dataset = Dataset(\n",
    "    uri=file_uri,\n",
    "    type='file',\n",
    "    project='project_id',    # Project ID groups a set of datasets\n",
    "    tags=[\n",
    "        Tag(\n",
    "            name='class_name_1',\n",
    "            locator=Locator(\n",
    "                spec='plotly_annotation', \n",
    "                path=mask1\n",
    "                ),\n",
    "            event_id=event_id\n",
    "        ),\n",
    "        Tag(\n",
    "            name='class_name_2',\n",
    "            locator=Locator(\n",
    "                spec='plotly_annotation', \n",
    "                path=mask2\n",
    "                ),\n",
    "            event_id=event_id\n",
    "        )\n",
    "    ]\n",
    "    )\n",
    "\n",
    "response = requests.post(f'{SPLASH_URI}/datasets', json=[dataset.model_dump(mode='json')])\n",
    "status = response.status_code\n",
    "dataset_uid = response.json()[0]['uid']\n",
    "print(f'Status code: {status}, dataset uid: {dataset_uid}')"
   ]
  },
  {
   "cell_type": "markdown",
   "metadata": {},
   "source": [
    "### Quering datasets"
   ]
  },
  {
   "cell_type": "code",
   "execution_count": 6,
   "metadata": {},
   "outputs": [
    {
     "name": "stdout",
     "output_type": "stream",
     "text": [
      "splash_dataset retrieved with query: [{'uid': '38d1fff3-a480-4ee8-bb65-8c61d1381bcd', 'schema_version': '1.3', 'project': 'project_id', 'type': 'file', 'uri': '/path/to/file', 'tags': [{'uid': '7e350b1e-85c5-4d2d-93f1-0f65419a8bf8', 'name': 'class_name_1', 'locator': {'spec': 'plotly_annotation', 'path': {'fill': 'toself', 'x': [0, 1, 2, 0], 'y': [0, 2, 0, 0], 'type': 'scatter'}}, 'confidence': None, 'event_id': '2d9f1c33-8056-40fa-8f60-44672c9238bb'}, {'uid': '6ce41e7e-093d-44a8-9c38-87b1f9533572', 'name': 'class_name_2', 'locator': {'spec': 'plotly_annotation', 'path': {'fill': 'toself', 'x': [3, 3, 5, 5, 3], 'y': [0.5, 1.5, 1.5, 0.5, 0.5], 'type': 'scatter'}}, 'confidence': None, 'event_id': '2d9f1c33-8056-40fa-8f60-44672c9238bb'}]}]\n"
     ]
    }
   ],
   "source": [
    "response = requests.get(f'{SPLASH_URI}/datasets', \n",
    "                        params={\"page[offset]\": 0,      # offset for query\n",
    "                                \"page[limit]\": 10,      # length of queried items\n",
    "                                \"uri\": file_uri,\n",
    "                                \"event_id\": event_id})\n",
    "splash_dataset = response.json()\n",
    "\n",
    "print(f'splash_dataset retrieved with query: {splash_dataset}')"
   ]
  },
  {
   "cell_type": "markdown",
   "metadata": {},
   "source": [
    "### New tagging event with new version of tags"
   ]
  },
  {
   "cell_type": "code",
   "execution_count": 7,
   "metadata": {},
   "outputs": [],
   "source": [
    "mask3 = {'fill': 'toself', 'x': [3,3,5,1,3], 'y': [0.5,1,1.5,0.5,0.5], 'type': 'scatter'}\n",
    "\n",
    "new_tagging_event = TaggingEvent(\n",
    "    tagger_id='username',\n",
    "    run_time=datetime.utcnow()\n",
    ")\n",
    "response = requests.post(f'{SPLASH_URI}/events', json=new_tagging_event.model_dump(mode='json'))\n",
    "event_id2 = response.json()['uid']"
   ]
  },
  {
   "cell_type": "markdown",
   "metadata": {},
   "source": [
    "### Add new tag to existing dataset"
   ]
  },
  {
   "cell_type": "code",
   "execution_count": 8,
   "metadata": {},
   "outputs": [
    {
     "name": "stdout",
     "output_type": "stream",
     "text": [
      "Status code: 200, the uids of the added tags are: ['06aa5fd1-36a6-4706-b549-eb9cf3be5ca1']\n"
     ]
    }
   ],
   "source": [
    "new_tag = Tag(\n",
    "            name='class_name_3',\n",
    "            event_id=event_id2,\n",
    "            locator=Locator(\n",
    "                spec='plotly_annotation',\n",
    "                path=mask3)\n",
    "            )\n",
    "\n",
    "response = requests.patch(f'{SPLASH_URI}/datasets/{dataset_uid}/tags', \n",
    "                          json={'add_tags': [new_tag.model_dump(mode='json')]})\n",
    "status = response.status_code\n",
    "tags_uids = response.json()\n",
    "print(f'Status code: {status}, the uids of the added tags are: {tags_uids[\"added_tags_uid\"]}')"
   ]
  }
 ],
 "metadata": {
  "kernelspec": {
   "display_name": ".venv",
   "language": "python",
   "name": "python3"
  },
  "language_info": {
   "codemirror_mode": {
    "name": "ipython",
    "version": 3
   },
   "file_extension": ".py",
   "mimetype": "text/x-python",
   "name": "python",
   "nbconvert_exporter": "python",
   "pygments_lexer": "ipython3",
   "version": "3.11.2"
  },
  "orig_nbformat": 4
 },
 "nbformat": 4,
 "nbformat_minor": 2
}
