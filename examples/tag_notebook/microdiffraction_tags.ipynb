{
 "cells": [
  {
   "cell_type": "markdown",
   "metadata": {},
   "source": [
    "# Tag images from a file system\n",
    "This notebook demonstrates how to use Splash-ML to scan a file system for files and then introduce them to splash-ml, how to save tag sets using the TagService in the tagging packages, and how to query on those tags.\n",
    "\n",
    "The notebook uses mongomock to mimic a mongo database instance in memory. This could easily be replaced with a MongoClient from pymongo.\n",
    "\n",
    "This notebook downloads and imports a pre-laballed data set that was generously provided by Carolin Sutter-Fella.\n",
    "\n",
    "<cite>\n",
    "    This data was acquired at beamline 12.3.2 at the Advanced Light\n",
    "Source, which is a DOE Office of Science User Facility under\n",
    "contract no. DE-AC02-05CH11231.\n",
    "</cite>\n",
    "\n",
    "The notebook downloads the dataset, which is a set of .tiff files and a csv that contains labels and the human tagger's confidence for each file. \n",
    "Lables include 'peaks', 'rings', 'rods' and 'arcs'. This notebook does the following:\n",
    "- Download sample files locally into a folder called 'data/labelled'\n",
    "- \"Anonymize\" the files, which copies them into a folder 'data/anonymous'\n",
    "- Setups a TagService instance and introduce those files from 'data/anonymous' and their labels from the labels.csv file\n",
    "- Demonstrates querying for those tags\n",
    "\n"
   ]
  },
  {
   "cell_type": "code",
   "execution_count": 1,
   "metadata": {},
   "outputs": [],
   "source": [
    "import sys; sys.path.insert(0, '../..')\n",
    "from datetime import datetime\n",
    "import glob\n",
    "import os\n",
    "from pathlib import Path\n",
    "import pandas as pd\n",
    "\n",
    "from mongomock import MongoClient\n",
    "from tagging.model import FileAsset, Tagger, TaggingEvent, AssetType, Tag, LABEL_NAME\n",
    "from tagging.tag_service import TagService\n",
    "from tagging.util.files import anonymize_copy\n",
    "\n",
    "# By default, this does not require a mongo server running, but can use the mongomock\n",
    "# library to create an in-memory simulation of mongo. This will be deleted when the \n",
    "# kernel is shutdown. \n",
    "in_memory_db = False\n",
    "if in_memory_db:\n",
    "    from mongomock import MongoClient\n",
    "else:\n",
    "    # for now, expects mongo running on localhost:27\n",
    "    from pymongo import MongoClient\n",
    "\n",
    "src_root_path = os.path.join(\"data\", \"labelled\")\n",
    "src_relative_path = \"labelled\"\n",
    "dest_root = os.path.join(\"data\", \"anonymous\", src_relative_path)\n",
    "\n"
   ]
  },
  {
   "cell_type": "code",
   "execution_count": 2,
   "metadata": {
    "tags": []
   },
   "outputs": [
    {
     "name": "stdout",
     "output_type": "stream",
     "text": [
      "Directory data/labelled exists...skipping\n",
      "File is unzipped into  \"data/labelled\" folder\n"
     ]
    }
   ],
   "source": [
    "def download_zip():\n",
    "    from tqdm import tqdm\n",
    "    import time\n",
    "    import requests\n",
    "    from zipfile import ZipFile\n",
    "    link = \"https://portal.nersc.gov/cfs/als/splash_ml/labelled.zip\"\n",
    "    file_name = \"data/labelled.zip\"\n",
    "\n",
    "    if os.path.exists('data'):\n",
    "        print(\"Directory data/labelled exists...skipping\")\n",
    "        \n",
    "    else:\n",
    "        os.mkdir('data')\n",
    "        with open(file_name, \"wb\") as file:\n",
    "            print(f\"downloading {link} to {file_name}\")\n",
    "            response = requests.get(link, stream=True)\n",
    "            total_length = int(response.headers.get('content-length'))\n",
    "            chunk_size = 4096  # 1 MB\n",
    "            num_bars = int(total_length / chunk_size)\n",
    "            print(total_length)\n",
    "            if total_length is None:\n",
    "                f.write(response.content)\n",
    "            else:\n",
    "                for chunk in tqdm(\n",
    "                    response.iter_content(chunk_size=chunk_size), total=num_bars, unit='KB', desc=\"labelled.zip\", leave=True, file=sys.stdout):\n",
    "                    file.write(chunk)\n",
    "\n",
    "    with ZipFile('data/labelled.zip', 'r') as zipObj:\n",
    "        # Extract all the contents of zip file in different directory\n",
    "        zipObj.extractall('data')\n",
    "        print('File is unzipped into  \"data/labelled\" folder') \n",
    "\n",
    "download_zip()"
   ]
  },
  {
   "cell_type": "code",
   "execution_count": 5,
   "metadata": {
    "tags": []
   },
   "outputs": [
    {
     "ename": "DuplicateKeyError",
     "evalue": "E11000 duplicate key error collection: tagging.tagger index: model_info.label_index_1 dup key: { model_info.label_index: null }, full error: {'index': 0, 'code': 11000, 'keyPattern': {'model_info.label_index': 1}, 'keyValue': {'model_info.label_index': None}, 'errmsg': 'E11000 duplicate key error collection: tagging.tagger index: model_info.label_index_1 dup key: { model_info.label_index: null }'}",
     "output_type": "error",
     "traceback": [
      "\u001b[0;31m---------------------------------------------------------------------------\u001b[0m",
      "\u001b[0;31mDuplicateKeyError\u001b[0m                         Traceback (most recent call last)",
      "\u001b[0;32m<ipython-input-5-3fc099f173b1>\u001b[0m in \u001b[0;36m<module>\u001b[0;34m\u001b[0m\n\u001b[1;32m      8\u001b[0m \u001b[0;34m\u001b[0m\u001b[0m\n\u001b[1;32m      9\u001b[0m \u001b[0;31m# tagger represents the entity creates tags on the assets...in this case, it's us!\u001b[0m\u001b[0;34m\u001b[0m\u001b[0;34m\u001b[0m\u001b[0;34m\u001b[0m\u001b[0m\n\u001b[0;32m---> 10\u001b[0;31m \u001b[0mtagger\u001b[0m \u001b[0;34m=\u001b[0m \u001b[0mtag_svc\u001b[0m\u001b[0;34m.\u001b[0m\u001b[0mcreate_tagger\u001b[0m\u001b[0;34m(\u001b[0m\u001b[0mTagger\u001b[0m\u001b[0;34m(\u001b[0m\u001b[0mtype\u001b[0m\u001b[0;34m=\u001b[0m\u001b[0;34m\"human\"\u001b[0m\u001b[0;34m,\u001b[0m \u001b[0mname\u001b[0m\u001b[0;34m=\u001b[0m\u001b[0;34m\"build_tag notebook\"\u001b[0m\u001b[0;34m)\u001b[0m\u001b[0;34m)\u001b[0m\u001b[0;34m\u001b[0m\u001b[0;34m\u001b[0m\u001b[0m\n\u001b[0m\u001b[1;32m     11\u001b[0m \u001b[0;34m\u001b[0m\u001b[0m\n\u001b[1;32m     12\u001b[0m \u001b[0;31m# event is recorded with each tag on each asset so we know when and what created the tags, in this case, it's us and now!\u001b[0m\u001b[0;34m\u001b[0m\u001b[0;34m\u001b[0m\u001b[0;34m\u001b[0m\u001b[0m\n",
      "\u001b[0;32m~/work/als-computing/splash-ml/tagging/tag_service.py\u001b[0m in \u001b[0;36mcreate_tagger\u001b[0;34m(self, tagger)\u001b[0m\n\u001b[1;32m     73\u001b[0m         \u001b[0mself\u001b[0m\u001b[0;34m.\u001b[0m\u001b[0m_inject_uid\u001b[0m\u001b[0;34m(\u001b[0m\u001b[0mtagger_dict\u001b[0m\u001b[0;34m)\u001b[0m\u001b[0;34m\u001b[0m\u001b[0;34m\u001b[0m\u001b[0m\n\u001b[1;32m     74\u001b[0m         \u001b[0;31m# tagger_dict['schema_version'] = self.SCHEMA_VERSION\u001b[0m\u001b[0;34m\u001b[0m\u001b[0;34m\u001b[0m\u001b[0;34m\u001b[0m\u001b[0m\n\u001b[0;32m---> 75\u001b[0;31m         \u001b[0mself\u001b[0m\u001b[0;34m.\u001b[0m\u001b[0m_collection_taggers\u001b[0m\u001b[0;34m.\u001b[0m\u001b[0minsert_one\u001b[0m\u001b[0;34m(\u001b[0m\u001b[0mtagger_dict\u001b[0m\u001b[0;34m)\u001b[0m\u001b[0;34m\u001b[0m\u001b[0;34m\u001b[0m\u001b[0m\n\u001b[0m\u001b[1;32m     76\u001b[0m         \u001b[0mself\u001b[0m\u001b[0;34m.\u001b[0m\u001b[0m_clean_mongo_ids\u001b[0m\u001b[0;34m(\u001b[0m\u001b[0mtagger_dict\u001b[0m\u001b[0;34m)\u001b[0m\u001b[0;34m\u001b[0m\u001b[0;34m\u001b[0m\u001b[0m\n\u001b[1;32m     77\u001b[0m         \u001b[0;32mreturn\u001b[0m \u001b[0mTagger\u001b[0m\u001b[0;34m(\u001b[0m\u001b[0;34m**\u001b[0m\u001b[0mtagger_dict\u001b[0m\u001b[0;34m)\u001b[0m\u001b[0;34m\u001b[0m\u001b[0;34m\u001b[0m\u001b[0m\n",
      "\u001b[0;32m~/work/als-computing/splash-ml/env/lib/python3.8/site-packages/pymongo/collection.py\u001b[0m in \u001b[0;36minsert_one\u001b[0;34m(self, document, bypass_document_validation, session)\u001b[0m\n\u001b[1;32m    696\u001b[0m         \u001b[0mwrite_concern\u001b[0m \u001b[0;34m=\u001b[0m \u001b[0mself\u001b[0m\u001b[0;34m.\u001b[0m\u001b[0m_write_concern_for\u001b[0m\u001b[0;34m(\u001b[0m\u001b[0msession\u001b[0m\u001b[0;34m)\u001b[0m\u001b[0;34m\u001b[0m\u001b[0;34m\u001b[0m\u001b[0m\n\u001b[1;32m    697\u001b[0m         return InsertOneResult(\n\u001b[0;32m--> 698\u001b[0;31m             self._insert(document,\n\u001b[0m\u001b[1;32m    699\u001b[0m                          \u001b[0mwrite_concern\u001b[0m\u001b[0;34m=\u001b[0m\u001b[0mwrite_concern\u001b[0m\u001b[0;34m,\u001b[0m\u001b[0;34m\u001b[0m\u001b[0;34m\u001b[0m\u001b[0m\n\u001b[1;32m    700\u001b[0m                          \u001b[0mbypass_doc_val\u001b[0m\u001b[0;34m=\u001b[0m\u001b[0mbypass_document_validation\u001b[0m\u001b[0;34m,\u001b[0m\u001b[0;34m\u001b[0m\u001b[0;34m\u001b[0m\u001b[0m\n",
      "\u001b[0;32m~/work/als-computing/splash-ml/env/lib/python3.8/site-packages/pymongo/collection.py\u001b[0m in \u001b[0;36m_insert\u001b[0;34m(self, docs, ordered, check_keys, manipulate, write_concern, op_id, bypass_doc_val, session)\u001b[0m\n\u001b[1;32m    611\u001b[0m         \u001b[0;34m\"\"\"Internal insert helper.\"\"\"\u001b[0m\u001b[0;34m\u001b[0m\u001b[0;34m\u001b[0m\u001b[0m\n\u001b[1;32m    612\u001b[0m         \u001b[0;32mif\u001b[0m \u001b[0misinstance\u001b[0m\u001b[0;34m(\u001b[0m\u001b[0mdocs\u001b[0m\u001b[0;34m,\u001b[0m \u001b[0mabc\u001b[0m\u001b[0;34m.\u001b[0m\u001b[0mMapping\u001b[0m\u001b[0;34m)\u001b[0m\u001b[0;34m:\u001b[0m\u001b[0;34m\u001b[0m\u001b[0;34m\u001b[0m\u001b[0m\n\u001b[0;32m--> 613\u001b[0;31m             return self._insert_one(\n\u001b[0m\u001b[1;32m    614\u001b[0m                 \u001b[0mdocs\u001b[0m\u001b[0;34m,\u001b[0m \u001b[0mordered\u001b[0m\u001b[0;34m,\u001b[0m \u001b[0mcheck_keys\u001b[0m\u001b[0;34m,\u001b[0m \u001b[0mmanipulate\u001b[0m\u001b[0;34m,\u001b[0m \u001b[0mwrite_concern\u001b[0m\u001b[0;34m,\u001b[0m \u001b[0mop_id\u001b[0m\u001b[0;34m,\u001b[0m\u001b[0;34m\u001b[0m\u001b[0;34m\u001b[0m\u001b[0m\n\u001b[1;32m    615\u001b[0m                 bypass_doc_val, session)\n",
      "\u001b[0;32m~/work/als-computing/splash-ml/env/lib/python3.8/site-packages/pymongo/collection.py\u001b[0m in \u001b[0;36m_insert_one\u001b[0;34m(self, doc, ordered, check_keys, manipulate, write_concern, op_id, bypass_doc_val, session)\u001b[0m\n\u001b[1;32m    600\u001b[0m             \u001b[0m_check_write_command_response\u001b[0m\u001b[0;34m(\u001b[0m\u001b[0mresult\u001b[0m\u001b[0;34m)\u001b[0m\u001b[0;34m\u001b[0m\u001b[0;34m\u001b[0m\u001b[0m\n\u001b[1;32m    601\u001b[0m \u001b[0;34m\u001b[0m\u001b[0m\n\u001b[0;32m--> 602\u001b[0;31m         self.__database.client._retryable_write(\n\u001b[0m\u001b[1;32m    603\u001b[0m             acknowledged, _insert_command, session)\n\u001b[1;32m    604\u001b[0m \u001b[0;34m\u001b[0m\u001b[0m\n",
      "\u001b[0;32m~/work/als-computing/splash-ml/env/lib/python3.8/site-packages/pymongo/mongo_client.py\u001b[0m in \u001b[0;36m_retryable_write\u001b[0;34m(self, retryable, func, session)\u001b[0m\n\u001b[1;32m   1496\u001b[0m         \u001b[0;34m\"\"\"Internal retryable write helper.\"\"\"\u001b[0m\u001b[0;34m\u001b[0m\u001b[0;34m\u001b[0m\u001b[0m\n\u001b[1;32m   1497\u001b[0m         \u001b[0;32mwith\u001b[0m \u001b[0mself\u001b[0m\u001b[0;34m.\u001b[0m\u001b[0m_tmp_session\u001b[0m\u001b[0;34m(\u001b[0m\u001b[0msession\u001b[0m\u001b[0;34m)\u001b[0m \u001b[0;32mas\u001b[0m \u001b[0ms\u001b[0m\u001b[0;34m:\u001b[0m\u001b[0;34m\u001b[0m\u001b[0;34m\u001b[0m\u001b[0m\n\u001b[0;32m-> 1498\u001b[0;31m             \u001b[0;32mreturn\u001b[0m \u001b[0mself\u001b[0m\u001b[0;34m.\u001b[0m\u001b[0m_retry_with_session\u001b[0m\u001b[0;34m(\u001b[0m\u001b[0mretryable\u001b[0m\u001b[0;34m,\u001b[0m \u001b[0mfunc\u001b[0m\u001b[0;34m,\u001b[0m \u001b[0ms\u001b[0m\u001b[0;34m,\u001b[0m \u001b[0;32mNone\u001b[0m\u001b[0;34m)\u001b[0m\u001b[0;34m\u001b[0m\u001b[0;34m\u001b[0m\u001b[0m\n\u001b[0m\u001b[1;32m   1499\u001b[0m \u001b[0;34m\u001b[0m\u001b[0m\n\u001b[1;32m   1500\u001b[0m     \u001b[0;32mdef\u001b[0m \u001b[0m_handle_getlasterror\u001b[0m\u001b[0;34m(\u001b[0m\u001b[0mself\u001b[0m\u001b[0;34m,\u001b[0m \u001b[0maddress\u001b[0m\u001b[0;34m,\u001b[0m \u001b[0merror_msg\u001b[0m\u001b[0;34m)\u001b[0m\u001b[0;34m:\u001b[0m\u001b[0;34m\u001b[0m\u001b[0;34m\u001b[0m\u001b[0m\n",
      "\u001b[0;32m~/work/als-computing/splash-ml/env/lib/python3.8/site-packages/pymongo/mongo_client.py\u001b[0m in \u001b[0;36m_retry_with_session\u001b[0;34m(self, retryable, func, session, bulk)\u001b[0m\n\u001b[1;32m   1382\u001b[0m         retryable = (retryable and self.retry_writes\n\u001b[1;32m   1383\u001b[0m                      and session and not session.in_transaction)\n\u001b[0;32m-> 1384\u001b[0;31m         \u001b[0;32mreturn\u001b[0m \u001b[0mself\u001b[0m\u001b[0;34m.\u001b[0m\u001b[0m_retry_internal\u001b[0m\u001b[0;34m(\u001b[0m\u001b[0mretryable\u001b[0m\u001b[0;34m,\u001b[0m \u001b[0mfunc\u001b[0m\u001b[0;34m,\u001b[0m \u001b[0msession\u001b[0m\u001b[0;34m,\u001b[0m \u001b[0mbulk\u001b[0m\u001b[0;34m)\u001b[0m\u001b[0;34m\u001b[0m\u001b[0;34m\u001b[0m\u001b[0m\n\u001b[0m\u001b[1;32m   1385\u001b[0m \u001b[0;34m\u001b[0m\u001b[0m\n\u001b[1;32m   1386\u001b[0m     \u001b[0;32mdef\u001b[0m \u001b[0m_retry_internal\u001b[0m\u001b[0;34m(\u001b[0m\u001b[0mself\u001b[0m\u001b[0;34m,\u001b[0m \u001b[0mretryable\u001b[0m\u001b[0;34m,\u001b[0m \u001b[0mfunc\u001b[0m\u001b[0;34m,\u001b[0m \u001b[0msession\u001b[0m\u001b[0;34m,\u001b[0m \u001b[0mbulk\u001b[0m\u001b[0;34m)\u001b[0m\u001b[0;34m:\u001b[0m\u001b[0;34m\u001b[0m\u001b[0;34m\u001b[0m\u001b[0m\n",
      "\u001b[0;32m~/work/als-computing/splash-ml/env/lib/python3.8/site-packages/pymongo/mongo_client.py\u001b[0m in \u001b[0;36m_retry_internal\u001b[0;34m(self, retryable, func, session, bulk)\u001b[0m\n\u001b[1;32m   1414\u001b[0m                             \u001b[0;32mraise\u001b[0m \u001b[0mlast_error\u001b[0m\u001b[0;34m\u001b[0m\u001b[0;34m\u001b[0m\u001b[0m\n\u001b[1;32m   1415\u001b[0m                         \u001b[0mretryable\u001b[0m \u001b[0;34m=\u001b[0m \u001b[0;32mFalse\u001b[0m\u001b[0;34m\u001b[0m\u001b[0;34m\u001b[0m\u001b[0m\n\u001b[0;32m-> 1416\u001b[0;31m                     \u001b[0;32mreturn\u001b[0m \u001b[0mfunc\u001b[0m\u001b[0;34m(\u001b[0m\u001b[0msession\u001b[0m\u001b[0;34m,\u001b[0m \u001b[0msock_info\u001b[0m\u001b[0;34m,\u001b[0m \u001b[0mretryable\u001b[0m\u001b[0;34m)\u001b[0m\u001b[0;34m\u001b[0m\u001b[0;34m\u001b[0m\u001b[0m\n\u001b[0m\u001b[1;32m   1417\u001b[0m             \u001b[0;32mexcept\u001b[0m \u001b[0mServerSelectionTimeoutError\u001b[0m\u001b[0;34m:\u001b[0m\u001b[0;34m\u001b[0m\u001b[0;34m\u001b[0m\u001b[0m\n\u001b[1;32m   1418\u001b[0m                 \u001b[0;32mif\u001b[0m \u001b[0mis_retrying\u001b[0m\u001b[0;34m(\u001b[0m\u001b[0;34m)\u001b[0m\u001b[0;34m:\u001b[0m\u001b[0;34m\u001b[0m\u001b[0;34m\u001b[0m\u001b[0m\n",
      "\u001b[0;32m~/work/als-computing/splash-ml/env/lib/python3.8/site-packages/pymongo/collection.py\u001b[0m in \u001b[0;36m_insert_command\u001b[0;34m(session, sock_info, retryable_write)\u001b[0m\n\u001b[1;32m    598\u001b[0m                 retryable_write=retryable_write)\n\u001b[1;32m    599\u001b[0m \u001b[0;34m\u001b[0m\u001b[0m\n\u001b[0;32m--> 600\u001b[0;31m             \u001b[0m_check_write_command_response\u001b[0m\u001b[0;34m(\u001b[0m\u001b[0mresult\u001b[0m\u001b[0;34m)\u001b[0m\u001b[0;34m\u001b[0m\u001b[0;34m\u001b[0m\u001b[0m\n\u001b[0m\u001b[1;32m    601\u001b[0m \u001b[0;34m\u001b[0m\u001b[0m\n\u001b[1;32m    602\u001b[0m         self.__database.client._retryable_write(\n",
      "\u001b[0;32m~/work/als-computing/splash-ml/env/lib/python3.8/site-packages/pymongo/helpers.py\u001b[0m in \u001b[0;36m_check_write_command_response\u001b[0;34m(result)\u001b[0m\n\u001b[1;32m    220\u001b[0m     \u001b[0mwrite_errors\u001b[0m \u001b[0;34m=\u001b[0m \u001b[0mresult\u001b[0m\u001b[0;34m.\u001b[0m\u001b[0mget\u001b[0m\u001b[0;34m(\u001b[0m\u001b[0;34m\"writeErrors\"\u001b[0m\u001b[0;34m)\u001b[0m\u001b[0;34m\u001b[0m\u001b[0;34m\u001b[0m\u001b[0m\n\u001b[1;32m    221\u001b[0m     \u001b[0;32mif\u001b[0m \u001b[0mwrite_errors\u001b[0m\u001b[0;34m:\u001b[0m\u001b[0;34m\u001b[0m\u001b[0;34m\u001b[0m\u001b[0m\n\u001b[0;32m--> 222\u001b[0;31m         \u001b[0m_raise_last_write_error\u001b[0m\u001b[0;34m(\u001b[0m\u001b[0mwrite_errors\u001b[0m\u001b[0;34m)\u001b[0m\u001b[0;34m\u001b[0m\u001b[0;34m\u001b[0m\u001b[0m\n\u001b[0m\u001b[1;32m    223\u001b[0m \u001b[0;34m\u001b[0m\u001b[0m\n\u001b[1;32m    224\u001b[0m     \u001b[0merror\u001b[0m \u001b[0;34m=\u001b[0m \u001b[0mresult\u001b[0m\u001b[0;34m.\u001b[0m\u001b[0mget\u001b[0m\u001b[0;34m(\u001b[0m\u001b[0;34m\"writeConcernError\"\u001b[0m\u001b[0;34m)\u001b[0m\u001b[0;34m\u001b[0m\u001b[0;34m\u001b[0m\u001b[0m\n",
      "\u001b[0;32m~/work/als-computing/splash-ml/env/lib/python3.8/site-packages/pymongo/helpers.py\u001b[0m in \u001b[0;36m_raise_last_write_error\u001b[0;34m(write_errors)\u001b[0m\n\u001b[1;32m    201\u001b[0m     \u001b[0merror\u001b[0m \u001b[0;34m=\u001b[0m \u001b[0mwrite_errors\u001b[0m\u001b[0;34m[\u001b[0m\u001b[0;34m-\u001b[0m\u001b[0;36m1\u001b[0m\u001b[0;34m]\u001b[0m\u001b[0;34m\u001b[0m\u001b[0;34m\u001b[0m\u001b[0m\n\u001b[1;32m    202\u001b[0m     \u001b[0;32mif\u001b[0m \u001b[0merror\u001b[0m\u001b[0;34m.\u001b[0m\u001b[0mget\u001b[0m\u001b[0;34m(\u001b[0m\u001b[0;34m\"code\"\u001b[0m\u001b[0;34m)\u001b[0m \u001b[0;34m==\u001b[0m \u001b[0;36m11000\u001b[0m\u001b[0;34m:\u001b[0m\u001b[0;34m\u001b[0m\u001b[0;34m\u001b[0m\u001b[0m\n\u001b[0;32m--> 203\u001b[0;31m         \u001b[0;32mraise\u001b[0m \u001b[0mDuplicateKeyError\u001b[0m\u001b[0;34m(\u001b[0m\u001b[0merror\u001b[0m\u001b[0;34m.\u001b[0m\u001b[0mget\u001b[0m\u001b[0;34m(\u001b[0m\u001b[0;34m\"errmsg\"\u001b[0m\u001b[0;34m)\u001b[0m\u001b[0;34m,\u001b[0m \u001b[0;36m11000\u001b[0m\u001b[0;34m,\u001b[0m \u001b[0merror\u001b[0m\u001b[0;34m)\u001b[0m\u001b[0;34m\u001b[0m\u001b[0;34m\u001b[0m\u001b[0m\n\u001b[0m\u001b[1;32m    204\u001b[0m     \u001b[0;32mraise\u001b[0m \u001b[0mWriteError\u001b[0m\u001b[0;34m(\u001b[0m\u001b[0merror\u001b[0m\u001b[0;34m.\u001b[0m\u001b[0mget\u001b[0m\u001b[0;34m(\u001b[0m\u001b[0;34m\"errmsg\"\u001b[0m\u001b[0;34m)\u001b[0m\u001b[0;34m,\u001b[0m \u001b[0merror\u001b[0m\u001b[0;34m.\u001b[0m\u001b[0mget\u001b[0m\u001b[0;34m(\u001b[0m\u001b[0;34m\"code\"\u001b[0m\u001b[0;34m)\u001b[0m\u001b[0;34m,\u001b[0m \u001b[0merror\u001b[0m\u001b[0;34m)\u001b[0m\u001b[0;34m\u001b[0m\u001b[0;34m\u001b[0m\u001b[0m\n\u001b[1;32m    205\u001b[0m \u001b[0;34m\u001b[0m\u001b[0m\n",
      "\u001b[0;31mDuplicateKeyError\u001b[0m: E11000 duplicate key error collection: tagging.tagger index: model_info.label_index_1 dup key: { model_info.label_index: null }, full error: {'index': 0, 'code': 11000, 'keyPattern': {'model_info.label_index': 1}, 'keyValue': {'model_info.label_index': None}, 'errmsg': 'E11000 duplicate key error collection: tagging.tagger index: model_info.label_index_1 dup key: { model_info.label_index: null }'}"
     ]
    }
   ],
   "source": [
    "db = MongoClient()\n",
    "\n",
    "#use glob to find all the files to ingest\n",
    "paths = glob.glob('data/labelled/**/*.tif*', recursive=True)\n",
    "\n",
    "# tag_svc instance to be used throughout creating and querying tags\n",
    "tag_svc = TagService(db, db_name='tagging')\n",
    "\n",
    "# tagger represents the entity creates tags on the assets...in this case, it's us!\n",
    "tagger = tag_svc.create_tagger(Tagger(type=\"human\", name=\"build_tag notebook\"))\n",
    "\n",
    "# event is recorded with each tag on each asset so we know when and what created the tags, in this case, it's us and now!\n",
    "tagging_event = tag_svc.create_tagging_event(TaggingEvent(tagger_id=tagger.uid, run_time=datetime.now()))\n",
    "\n",
    "# read the csv for tags\n",
    "labels = pd.read_csv(\"data/labelled/labels.csv\", header=[0])\n",
    "\n",
    "num_files = 0\n",
    "for src_root_path in paths:\n",
    "    anonymous_file = anonymize_copy(src_root_path, src_relative_path, dest_root)\n",
    "    # We'll take advantage of the fact that the anonymous file name is unique (hash of the file)\n",
    "    anonymous_file_name = os.path.splitext(os.path.split(anonymous_file)[1])[0]\n",
    "    # get label row from csv using file name\n",
    "    file_name = os.path.splitext(os.path.split(src_root_path)[1])[0]\n",
    "    \n",
    "    3 # An Asset is a reference in the tagging database that stores information about something being tagged as well\n",
    "    # as its tags. In this case, we have a file, so we're creating a FileAsset. Databroker assets will be available soon!\n",
    "    # We pass the anonymous file's name, which is a hash of the file itself, as the uid. This is optional, a uid will be created\n",
    "    # if none is passed.\n",
    "    asset = FileAsset(uid=anonymous_file_name, uri=anonymous_file)\n",
    "    # Associate this file with the name listed in the csv\n",
    "    row = labels.loc[labels['image name'] == int(file_name)]\n",
    "    tags = []\n",
    "    tags.append(Tag(name=LABEL_NAME, value=\"peaks\", confidence=row['peaks'].values[0], event_id=tagging_event.uid))\n",
    "    tags.append(Tag(name=LABEL_NAME, value=\"rings\", confidence=row['rings'].values[0], event_id=tagging_event.uid))\n",
    "    tags.append(Tag(name=LABEL_NAME, value=\"rods\", confidence=row['rods'].values[0], event_id=tagging_event.uid))\n",
    "    tags.append(Tag(name=LABEL_NAME, value=\"arcs\", confidence=row['arcs'].values[0], event_id=tagging_event.uid))\n",
    "    asset.tags = tags\n",
    "    tag_svc.create_asset(asset)\n",
    "    num_files += 1\n",
    "print(f\"Anonymized, imported and tagged {num_files} files\")"
   ]
  },
  {
   "cell_type": "markdown",
   "metadata": {},
   "source": [
    "Now that we have loaded the tagging database, we can do some queries on what we have. First, find random tagging events."
   ]
  },
  {
   "cell_type": "code",
   "execution_count": 6,
   "metadata": {
    "tags": []
   },
   "outputs": [
    {
     "name": "stdout",
     "output_type": "stream",
     "text": [
      "uid: 7d6928665d52239499f9501b87241fde at data/anonymous/labelled/6c196513838facc8a850bb15ed0e4b51/7d6928665d52239499f9501b87241fde.tif has peak tag: [Tag(name='label', value='peaks', confidence=0.1, event_id='68c0e5b2-7a8c-4282-9ff1-ac763a3e3fef')]\n",
      "uid: cad59c5611adedcb793a09d071c780a0 at data/anonymous/labelled/6c196513838facc8a850bb15ed0e4b51/cad59c5611adedcb793a09d071c780a0.tif has peak tag: [Tag(name='label', value='peaks', confidence=0.1, event_id='68c0e5b2-7a8c-4282-9ff1-ac763a3e3fef')]\n",
      "uid: cb202df1321627a31626511fe1b88b59 at data/anonymous/labelled/6c196513838facc8a850bb15ed0e4b51/cb202df1321627a31626511fe1b88b59.tif has peak tag: [Tag(name='label', value='peaks', confidence=0.5, event_id='68c0e5b2-7a8c-4282-9ff1-ac763a3e3fef')]\n",
      "uid: 5de2fbd93962347f34bd868983ca081d at data/anonymous/labelled/6c196513838facc8a850bb15ed0e4b51/5de2fbd93962347f34bd868983ca081d.tif has peak tag: [Tag(name='label', value='peaks', confidence=0.2, event_id='68c0e5b2-7a8c-4282-9ff1-ac763a3e3fef')]\n",
      "uid: 78d46c48cf41d878dfa889a9a0bfa231 at data/anonymous/labelled/6c196513838facc8a850bb15ed0e4b51/78d46c48cf41d878dfa889a9a0bfa231.tif has peak tag: [Tag(name='label', value='peaks', confidence=0.0, event_id='68c0e5b2-7a8c-4282-9ff1-ac763a3e3fef')]\n",
      "uid: 604eeb07633fdc79a9787bf485345989 at data/anonymous/labelled/6c196513838facc8a850bb15ed0e4b51/604eeb07633fdc79a9787bf485345989.tif has peak tag: [Tag(name='label', value='peaks', confidence=0.3, event_id='68c0e5b2-7a8c-4282-9ff1-ac763a3e3fef')]\n",
      "uid: b94f6a1a64dd9491b881acaed7df75e4 at data/anonymous/labelled/6c196513838facc8a850bb15ed0e4b51/b94f6a1a64dd9491b881acaed7df75e4.tif has peak tag: [Tag(name='label', value='peaks', confidence=0.1, event_id='68c0e5b2-7a8c-4282-9ff1-ac763a3e3fef')]\n",
      "uid: 1ea962263d40a693c8b3921625ecd486 at data/anonymous/labelled/6c196513838facc8a850bb15ed0e4b51/1ea962263d40a693c8b3921625ecd486.tif has peak tag: [Tag(name='label', value='peaks', confidence=0.8, event_id='68c0e5b2-7a8c-4282-9ff1-ac763a3e3fef')]\n",
      "uid: 530784125230a556273d7037274ea5d4 at data/anonymous/labelled/6c196513838facc8a850bb15ed0e4b51/530784125230a556273d7037274ea5d4.tif has peak tag: [Tag(name='label', value='peaks', confidence=0.3, event_id='68c0e5b2-7a8c-4282-9ff1-ac763a3e3fef')]\n",
      "uid: e35b222605cf343f29fb78965642d161 at data/anonymous/labelled/6c196513838facc8a850bb15ed0e4b51/e35b222605cf343f29fb78965642d161.tif has peak tag: [Tag(name='label', value='peaks', confidence=0.2, event_id='68c0e5b2-7a8c-4282-9ff1-ac763a3e3fef')]\n",
      "uid: d4eee07b4e8912671437bf30f15ca6f8 at data/anonymous/labelled/6c196513838facc8a850bb15ed0e4b51/d4eee07b4e8912671437bf30f15ca6f8.tif has peak tag: [Tag(name='label', value='peaks', confidence=0.7, event_id='68c0e5b2-7a8c-4282-9ff1-ac763a3e3fef')]\n",
      "uid: 25175880573e5e98aa486fc233f2d795 at data/anonymous/labelled/6c196513838facc8a850bb15ed0e4b51/25175880573e5e98aa486fc233f2d795.tif has peak tag: [Tag(name='label', value='peaks', confidence=0.0, event_id='68c0e5b2-7a8c-4282-9ff1-ac763a3e3fef')]\n",
      "uid: de3c9e4c6e77d1d91e232028abcb94fa at data/anonymous/labelled/6c196513838facc8a850bb15ed0e4b51/de3c9e4c6e77d1d91e232028abcb94fa.tif has peak tag: [Tag(name='label', value='peaks', confidence=0.2, event_id='68c0e5b2-7a8c-4282-9ff1-ac763a3e3fef')]\n",
      "uid: 473210ed4ec24d90c881d25522710379 at data/anonymous/labelled/6c196513838facc8a850bb15ed0e4b51/473210ed4ec24d90c881d25522710379.tif has peak tag: [Tag(name='label', value='peaks', confidence=0.0, event_id='68c0e5b2-7a8c-4282-9ff1-ac763a3e3fef')]\n",
      "uid: 3c7a071f2a85776ae4e720a3a6cb24a4 at data/anonymous/labelled/6c196513838facc8a850bb15ed0e4b51/3c7a071f2a85776ae4e720a3a6cb24a4.tif has peak tag: [Tag(name='label', value='peaks', confidence=0.7, event_id='68c0e5b2-7a8c-4282-9ff1-ac763a3e3fef')]\n",
      "uid: 78d7a0addba574f89dcd855b4ad29e89 at data/anonymous/labelled/6c196513838facc8a850bb15ed0e4b51/78d7a0addba574f89dcd855b4ad29e89.tif has peak tag: [Tag(name='label', value='peaks', confidence=0.0, event_id='68c0e5b2-7a8c-4282-9ff1-ac763a3e3fef')]\n",
      "uid: 8978cacd34b7cbcf71db1563b0059500 at data/anonymous/labelled/6c196513838facc8a850bb15ed0e4b51/8978cacd34b7cbcf71db1563b0059500.tif has peak tag: [Tag(name='label', value='peaks', confidence=0.2, event_id='68c0e5b2-7a8c-4282-9ff1-ac763a3e3fef')]\n",
      "uid: 2d1fead3d295de8f55ecf21ecffbd0a5 at data/anonymous/labelled/6c196513838facc8a850bb15ed0e4b51/2d1fead3d295de8f55ecf21ecffbd0a5.tif has peak tag: [Tag(name='label', value='peaks', confidence=0.6, event_id='68c0e5b2-7a8c-4282-9ff1-ac763a3e3fef')]\n",
      "uid: 7f9e0fdaed22218c0dd3668f8984ad53 at data/anonymous/labelled/6c196513838facc8a850bb15ed0e4b51/7f9e0fdaed22218c0dd3668f8984ad53.tif has peak tag: [Tag(name='label', value='peaks', confidence=0.1, event_id='68c0e5b2-7a8c-4282-9ff1-ac763a3e3fef')]\n",
      "uid: 36121788d2d22255ead58209c26e2238 at data/anonymous/labelled/6c196513838facc8a850bb15ed0e4b51/36121788d2d22255ead58209c26e2238.tif has peak tag: [Tag(name='label', value='peaks', confidence=0.2, event_id='68c0e5b2-7a8c-4282-9ff1-ac763a3e3fef')]\n",
      "uid: 1b982a859a56b12e4736aa231c5f485c at data/anonymous/labelled/6c196513838facc8a850bb15ed0e4b51/1b982a859a56b12e4736aa231c5f485c.tif has peak tag: [Tag(name='label', value='peaks', confidence=0.3, event_id='68c0e5b2-7a8c-4282-9ff1-ac763a3e3fef')]\n",
      "uid: ac86427ca73de9410f4d29e06250a53f at data/anonymous/labelled/6c196513838facc8a850bb15ed0e4b51/ac86427ca73de9410f4d29e06250a53f.tif has peak tag: [Tag(name='label', value='peaks', confidence=0.7, event_id='68c0e5b2-7a8c-4282-9ff1-ac763a3e3fef')]\n",
      "uid: 0d6eabe3a1ee1f9ebc2baae93f7c6ce4 at data/anonymous/labelled/6c196513838facc8a850bb15ed0e4b51/0d6eabe3a1ee1f9ebc2baae93f7c6ce4.tif has peak tag: [Tag(name='label', value='peaks', confidence=0.0, event_id='68c0e5b2-7a8c-4282-9ff1-ac763a3e3fef')]\n",
      "uid: eaa19755f367090e801c4d585bf83893 at data/anonymous/labelled/6c196513838facc8a850bb15ed0e4b51/eaa19755f367090e801c4d585bf83893.tif has peak tag: [Tag(name='label', value='peaks', confidence=0.1, event_id='68c0e5b2-7a8c-4282-9ff1-ac763a3e3fef')]\n",
      "uid: bdc728f12261a3abbd9df9c6bdb52251 at data/anonymous/labelled/6c196513838facc8a850bb15ed0e4b51/bdc728f12261a3abbd9df9c6bdb52251.tif has peak tag: [Tag(name='label', value='peaks', confidence=0.1, event_id='68c0e5b2-7a8c-4282-9ff1-ac763a3e3fef')]\n",
      "uid: 6bf5839644ca6d264c529a53703dc4a5 at data/anonymous/labelled/6c196513838facc8a850bb15ed0e4b51/6bf5839644ca6d264c529a53703dc4a5.tif has peak tag: [Tag(name='label', value='peaks', confidence=0.1, event_id='68c0e5b2-7a8c-4282-9ff1-ac763a3e3fef')]\n",
      "uid: ae930dd767d06377551facee23434072 at data/anonymous/labelled/6c196513838facc8a850bb15ed0e4b51/ae930dd767d06377551facee23434072.tif has peak tag: [Tag(name='label', value='peaks', confidence=0.3, event_id='68c0e5b2-7a8c-4282-9ff1-ac763a3e3fef')]\n",
      "uid: 1f47a2b0bd4d288e244ccdfcdfa806a8 at data/anonymous/labelled/6c196513838facc8a850bb15ed0e4b51/1f47a2b0bd4d288e244ccdfcdfa806a8.tif has peak tag: [Tag(name='label', value='peaks', confidence=0.0, event_id='68c0e5b2-7a8c-4282-9ff1-ac763a3e3fef')]\n",
      "uid: 57700c349e22ae2391c1a71facfc9765 at data/anonymous/labelled/6c196513838facc8a850bb15ed0e4b51/57700c349e22ae2391c1a71facfc9765.tif has peak tag: [Tag(name='label', value='peaks', confidence=0.0, event_id='68c0e5b2-7a8c-4282-9ff1-ac763a3e3fef')]\n",
      "uid: d0d699e8c3ef73a9408ac2a3538f93fe at data/anonymous/labelled/6c196513838facc8a850bb15ed0e4b51/d0d699e8c3ef73a9408ac2a3538f93fe.tif has peak tag: [Tag(name='label', value='peaks', confidence=0.7, event_id='68c0e5b2-7a8c-4282-9ff1-ac763a3e3fef')]\n",
      "uid: 22ada1ce539b40d49a9ed0c0af4bbfd7 at data/anonymous/labelled/6c196513838facc8a850bb15ed0e4b51/22ada1ce539b40d49a9ed0c0af4bbfd7.tif has peak tag: [Tag(name='label', value='peaks', confidence=0.0, event_id='68c0e5b2-7a8c-4282-9ff1-ac763a3e3fef')]\n",
      "uid: 757ff6cabc802e78943d1fec12816135 at data/anonymous/labelled/6c196513838facc8a850bb15ed0e4b51/757ff6cabc802e78943d1fec12816135.tif has peak tag: [Tag(name='label', value='peaks', confidence=0.3, event_id='68c0e5b2-7a8c-4282-9ff1-ac763a3e3fef')]\n",
      "uid: e3d51018224a026c82780e7cf2148d01 at data/anonymous/labelled/6c196513838facc8a850bb15ed0e4b51/e3d51018224a026c82780e7cf2148d01.tif has peak tag: [Tag(name='label', value='peaks', confidence=0.1, event_id='68c0e5b2-7a8c-4282-9ff1-ac763a3e3fef')]\n",
      "uid: 659990f5c1e702402786d17e78f2d00e at data/anonymous/labelled/6c196513838facc8a850bb15ed0e4b51/659990f5c1e702402786d17e78f2d00e.tif has peak tag: [Tag(name='label', value='peaks', confidence=0.7, event_id='68c0e5b2-7a8c-4282-9ff1-ac763a3e3fef')]\n",
      "uid: a34d485c5b0466d2c529300aec3092dc at data/anonymous/labelled/6c196513838facc8a850bb15ed0e4b51/a34d485c5b0466d2c529300aec3092dc.tif has peak tag: [Tag(name='label', value='peaks', confidence=0.0, event_id='68c0e5b2-7a8c-4282-9ff1-ac763a3e3fef')]\n",
      "uid: 24bc318024aed377a83ddd4c8c4d49a3 at data/anonymous/labelled/6c196513838facc8a850bb15ed0e4b51/24bc318024aed377a83ddd4c8c4d49a3.tif has peak tag: [Tag(name='label', value='peaks', confidence=0.7, event_id='68c0e5b2-7a8c-4282-9ff1-ac763a3e3fef')]\n",
      "uid: 5b94ac9d182a2844fd526c8c8d850d3f at data/anonymous/labelled/6c196513838facc8a850bb15ed0e4b51/5b94ac9d182a2844fd526c8c8d850d3f.tif has peak tag: [Tag(name='label', value='peaks', confidence=0.0, event_id='68c0e5b2-7a8c-4282-9ff1-ac763a3e3fef')]\n",
      "uid: c92a9333781e06de704ee9ef0e533c6c at data/anonymous/labelled/6c196513838facc8a850bb15ed0e4b51/c92a9333781e06de704ee9ef0e533c6c.tif has peak tag: [Tag(name='label', value='peaks', confidence=0.2, event_id='68c0e5b2-7a8c-4282-9ff1-ac763a3e3fef')]\n",
      "uid: 5b8025d401306a020bd8908b22c61b57 at data/anonymous/labelled/6c196513838facc8a850bb15ed0e4b51/5b8025d401306a020bd8908b22c61b57.tif has peak tag: [Tag(name='label', value='peaks', confidence=0.0, event_id='68c0e5b2-7a8c-4282-9ff1-ac763a3e3fef')]\n",
      "uid: 56d942a6b37e2cb469cdbb474039589e at data/anonymous/labelled/6c196513838facc8a850bb15ed0e4b51/56d942a6b37e2cb469cdbb474039589e.tif has peak tag: [Tag(name='label', value='peaks', confidence=0.4, event_id='68c0e5b2-7a8c-4282-9ff1-ac763a3e3fef')]\n",
      "uid: 87c4268a55f9576fa1ed9e54ae299883 at data/anonymous/labelled/6c196513838facc8a850bb15ed0e4b51/87c4268a55f9576fa1ed9e54ae299883.tif has peak tag: [Tag(name='label', value='peaks', confidence=0.15, event_id='68c0e5b2-7a8c-4282-9ff1-ac763a3e3fef')]\n",
      "uid: b2593764867fe8dea2dc06aeb6006d9b at data/anonymous/labelled/6c196513838facc8a850bb15ed0e4b51/b2593764867fe8dea2dc06aeb6006d9b.tif has peak tag: [Tag(name='label', value='peaks', confidence=0.2, event_id='68c0e5b2-7a8c-4282-9ff1-ac763a3e3fef')]\n",
      "uid: 72fa0e5416437b5ec6a33dc0beb8a0e1 at data/anonymous/labelled/6c196513838facc8a850bb15ed0e4b51/72fa0e5416437b5ec6a33dc0beb8a0e1.tif has peak tag: [Tag(name='label', value='peaks', confidence=0.0, event_id='68c0e5b2-7a8c-4282-9ff1-ac763a3e3fef')]\n",
      "uid: e73951b24ad707fd06d9654e64e38909 at data/anonymous/labelled/6c196513838facc8a850bb15ed0e4b51/e73951b24ad707fd06d9654e64e38909.tif has peak tag: [Tag(name='label', value='peaks', confidence=0.1, event_id='68c0e5b2-7a8c-4282-9ff1-ac763a3e3fef')]\n",
      "uid: 81ea7375d5c469debbff1b980b7819ca at data/anonymous/labelled/6c196513838facc8a850bb15ed0e4b51/81ea7375d5c469debbff1b980b7819ca.tif has peak tag: [Tag(name='label', value='peaks', confidence=0.2, event_id='68c0e5b2-7a8c-4282-9ff1-ac763a3e3fef')]\n",
      "uid: fe4605eb04558c3515ed4ac8e88fe57e at data/anonymous/labelled/6c196513838facc8a850bb15ed0e4b51/fe4605eb04558c3515ed4ac8e88fe57e.tif has peak tag: [Tag(name='label', value='peaks', confidence=0.0, event_id='68c0e5b2-7a8c-4282-9ff1-ac763a3e3fef')]\n",
      "uid: 6a8aa7292ecc72f971940fd42a401c96 at data/anonymous/labelled/6c196513838facc8a850bb15ed0e4b51/6a8aa7292ecc72f971940fd42a401c96.tif has peak tag: [Tag(name='label', value='peaks', confidence=0.0, event_id='68c0e5b2-7a8c-4282-9ff1-ac763a3e3fef')]\n",
      "uid: 298a20ba8af9865a1930af78876f36ae at data/anonymous/labelled/6c196513838facc8a850bb15ed0e4b51/298a20ba8af9865a1930af78876f36ae.tif has peak tag: [Tag(name='label', value='peaks', confidence=0.2, event_id='68c0e5b2-7a8c-4282-9ff1-ac763a3e3fef')]\n",
      "uid: 51efa09941f1d6e11f95b49b8ff79713 at data/anonymous/labelled/6c196513838facc8a850bb15ed0e4b51/51efa09941f1d6e11f95b49b8ff79713.tif has peak tag: [Tag(name='label', value='peaks', confidence=0.0, event_id='68c0e5b2-7a8c-4282-9ff1-ac763a3e3fef')]\n",
      "uid: 74c2d09d1276996fa04f7d2e57a0c53e at data/anonymous/labelled/6c196513838facc8a850bb15ed0e4b51/74c2d09d1276996fa04f7d2e57a0c53e.tif has peak tag: [Tag(name='label', value='peaks', confidence=0.1, event_id='68c0e5b2-7a8c-4282-9ff1-ac763a3e3fef')]\n",
      "uid: d82343bbe92155b3b143999ea8e63f0c at data/anonymous/labelled/6c196513838facc8a850bb15ed0e4b51/d82343bbe92155b3b143999ea8e63f0c.tif has peak tag: [Tag(name='label', value='peaks', confidence=0.0, event_id='68c0e5b2-7a8c-4282-9ff1-ac763a3e3fef')]\n",
      "uid: 412becf76a93e7dd4b46309994b86e53 at data/anonymous/labelled/6c196513838facc8a850bb15ed0e4b51/412becf76a93e7dd4b46309994b86e53.tif has peak tag: [Tag(name='label', value='peaks', confidence=0.8, event_id='68c0e5b2-7a8c-4282-9ff1-ac763a3e3fef')]\n",
      "uid: 8cc2d1bc5ec820031fcc49107811456a at data/anonymous/labelled/6c196513838facc8a850bb15ed0e4b51/8cc2d1bc5ec820031fcc49107811456a.tif has peak tag: [Tag(name='label', value='peaks', confidence=0.7, event_id='68c0e5b2-7a8c-4282-9ff1-ac763a3e3fef')]\n",
      "uid: 2cfe46ede14c5af52c54afbc0b75ca28 at data/anonymous/labelled/6c196513838facc8a850bb15ed0e4b51/2cfe46ede14c5af52c54afbc0b75ca28.tif has peak tag: [Tag(name='label', value='peaks', confidence=0.2, event_id='68c0e5b2-7a8c-4282-9ff1-ac763a3e3fef')]\n",
      "uid: fa7e88552ec727f1d6b53e998cc86583 at data/anonymous/labelled/6c196513838facc8a850bb15ed0e4b51/fa7e88552ec727f1d6b53e998cc86583.tif has peak tag: [Tag(name='label', value='peaks', confidence=0.7, event_id='68c0e5b2-7a8c-4282-9ff1-ac763a3e3fef')]\n",
      "uid: 85ddec0f2ac2a9fd9f171241b1f5a558 at data/anonymous/labelled/6c196513838facc8a850bb15ed0e4b51/85ddec0f2ac2a9fd9f171241b1f5a558.tif has peak tag: [Tag(name='label', value='peaks', confidence=0.0, event_id='68c0e5b2-7a8c-4282-9ff1-ac763a3e3fef')]\n",
      "uid: 95c0e580437768a7031cb3c76c54f2ab at data/anonymous/labelled/6c196513838facc8a850bb15ed0e4b51/95c0e580437768a7031cb3c76c54f2ab.tif has peak tag: [Tag(name='label', value='peaks', confidence=0.2, event_id='68c0e5b2-7a8c-4282-9ff1-ac763a3e3fef')]\n",
      "uid: a268085f0868e28cb54897a1b13d7dc3 at data/anonymous/labelled/6c196513838facc8a850bb15ed0e4b51/a268085f0868e28cb54897a1b13d7dc3.tif has peak tag: [Tag(name='label', value='peaks', confidence=0.1, event_id='68c0e5b2-7a8c-4282-9ff1-ac763a3e3fef')]\n",
      "uid: e92ad62e35209ea0b9ec6589f0e3b327 at data/anonymous/labelled/6c196513838facc8a850bb15ed0e4b51/e92ad62e35209ea0b9ec6589f0e3b327.tif has peak tag: [Tag(name='label', value='peaks', confidence=0.0, event_id='68c0e5b2-7a8c-4282-9ff1-ac763a3e3fef')]\n",
      "uid: 17b6362a5fdd1d1df3caa34d5a605781 at data/anonymous/labelled/6c196513838facc8a850bb15ed0e4b51/17b6362a5fdd1d1df3caa34d5a605781.tif has peak tag: [Tag(name='label', value='peaks', confidence=0.3, event_id='68c0e5b2-7a8c-4282-9ff1-ac763a3e3fef')]\n",
      "uid: a9cbbe60ad90fb78b9a1e5a8dcf03ff4 at data/anonymous/labelled/6c196513838facc8a850bb15ed0e4b51/a9cbbe60ad90fb78b9a1e5a8dcf03ff4.tif has peak tag: [Tag(name='label', value='peaks', confidence=0.0, event_id='68c0e5b2-7a8c-4282-9ff1-ac763a3e3fef')]\n"
     ]
    }
   ],
   "source": [
    "assets_with_peaks = tag_svc.find_assets(**{\"tags.value\": \"peaks\"})\n",
    "for asset in assets_with_peaks:\n",
    "    tag = [tag for tag in asset.tags if tag.value == \"peaks\"]\n",
    "    print(f\"uid: {asset.uid} at {asset.uri} has peak tag: {tag}\")"
   ]
  },
  {
   "cell_type": "markdown",
   "metadata": {},
   "source": [
    "We query based on tags. (note that this signature will be enhanced to make confidence parameters a range and optional)"
   ]
  },
  {
   "cell_type": "code",
   "execution_count": null,
   "metadata": {},
   "outputs": [],
   "source": []
  }
 ],
 "metadata": {
  "kernelspec": {
   "display_name": "Python 3.8.5 64-bit ('env')",
   "language": "python",
   "name": "python38564bitenv8fa1de97d37e40a1a97c405ac34e33d2"
  },
  "language_info": {
   "codemirror_mode": {
    "name": "ipython",
    "version": 3
   },
   "file_extension": ".py",
   "mimetype": "text/x-python",
   "name": "python",
   "nbconvert_exporter": "python",
   "pygments_lexer": "ipython3",
   "version": "3.8.5"
  }
 },
 "nbformat": 4,
 "nbformat_minor": 4
}
