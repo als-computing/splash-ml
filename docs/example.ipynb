{
 "cells": [
  {
   "cell_type": "code",
   "execution_count": 43,
   "metadata": {},
   "outputs": [],
   "source": [
    "from datetime import datetime\n",
    "import requests"
   ]
  },
  {
   "cell_type": "code",
   "execution_count": 44,
   "metadata": {},
   "outputs": [],
   "source": [
    "file_uri = '/path/to/file'\n",
    "mask1 = {'fill': 'toself', 'x': [0, 1, 2, 0], 'y': [0, 2, 0, 0], 'type': 'scatter'}\n",
    "mask2 = {'fill': 'toself', 'x': [3,3,5,5,3], 'y': [0.5,1.5,1.5,0.5,0.5], 'type': 'scatter'}\n",
    "SPLASH_URI = 'http://localhost:8087/api/v0'"
   ]
  },
  {
   "cell_type": "markdown",
   "metadata": {},
   "source": [
    "### Posting a new tagging event for version control"
   ]
  },
  {
   "cell_type": "code",
   "execution_count": 45,
   "metadata": {},
   "outputs": [],
   "source": [
    "new_tagging_event = {\n",
    "    'tagger_id': 'username',\n",
    "    'run_time': str(datetime.utcnow())\n",
    "}\n",
    "response = requests.post(f'{SPLASH_URI}/events', json=new_tagging_event)\n",
    "event_id = response.json()['uid']"
   ]
  },
  {
   "cell_type": "markdown",
   "metadata": {},
   "source": [
    "### Posting a data set with a set of tags"
   ]
  },
  {
   "cell_type": "code",
   "execution_count": 46,
   "metadata": {},
   "outputs": [
    {
     "name": "stdout",
     "output_type": "stream",
     "text": [
      "Status code: 200, dataset uid: f361e5c6-5c7b-4f09-a25d-d8366bb34dca\n"
     ]
    }
   ],
   "source": [
    "dataset = {\n",
    "    'uri': file_uri,\n",
    "    'type': 'file',\n",
    "    'project': 'project_id',    # Project ID groups a set of datasets\n",
    "    'tags': [\n",
    "        {'name': 'class_name_1',\n",
    "         'locator': {\n",
    "             'spec': 'plotly_annotation',\n",
    "             'path': mask1\n",
    "         },\n",
    "         'event_id': event_id},\n",
    "        {'name': 'class_name_2',\n",
    "         'locator': {\n",
    "             'spec': 'plotly_annotation',\n",
    "             'path': mask2\n",
    "         },\n",
    "         'event_id': event_id,\n",
    "        }\n",
    "    ]\n",
    "}\n",
    "\n",
    "response = requests.post(f'{SPLASH_URI}/datasets', json=[dataset])\n",
    "status = response.status_code\n",
    "dataset_uid = response.json()[0]['uid']\n",
    "print(f'Status code: {status}, dataset uid: {dataset_uid}')"
   ]
  },
  {
   "cell_type": "markdown",
   "metadata": {},
   "source": [
    "### Quering datasets"
   ]
  },
  {
   "cell_type": "code",
   "execution_count": 47,
   "metadata": {},
   "outputs": [
    {
     "name": "stdout",
     "output_type": "stream",
     "text": [
      "splash_dataset retrieved with query: [{'uid': 'f361e5c6-5c7b-4f09-a25d-d8366bb34dca', 'schema_version': '1.3', 'project': 'project_id', 'type': 'file', 'uri': '/path/to/file', 'tags': [{'uid': '6e974326-3113-4f7e-8bca-68a47a6999b4', 'name': 'class_name_1', 'locator': {'spec': 'plotly_annotation', 'path': {'fill': 'toself', 'x': [0, 1, 2, 0], 'y': [0, 2, 0, 0], 'type': 'scatter'}}, 'confidence': None, 'event_id': '811683ca-8ede-4416-b68a-84c370898cd8'}, {'uid': '57ac4317-d610-49d0-9496-955055f1ba9d', 'name': 'class_name_2', 'locator': {'spec': 'plotly_annotation', 'path': {'fill': 'toself', 'x': [3, 3, 5, 5, 3], 'y': [0.5, 1.5, 1.5, 0.5, 0.5], 'type': 'scatter'}}, 'confidence': None, 'event_id': '811683ca-8ede-4416-b68a-84c370898cd8'}]}]\n"
     ]
    }
   ],
   "source": [
    "response = requests.get(f'{SPLASH_URI}/datasets', \n",
    "                        params={\"page[offset]\": 0,      # offset for query\n",
    "                                \"page[limit]\": 10,      # length of queried items\n",
    "                                \"uri\": file_uri,\n",
    "                                \"event_id\": event_id})\n",
    "splash_dataset = response.json()\n",
    "\n",
    "print(f'splash_dataset retrieved with query: {splash_dataset}')"
   ]
  },
  {
   "cell_type": "markdown",
   "metadata": {},
   "source": [
    "### New tagging event with new version of tags"
   ]
  },
  {
   "cell_type": "code",
   "execution_count": 48,
   "metadata": {},
   "outputs": [],
   "source": [
    "mask3 = {'fill': 'toself', 'x': [3,3,5,1,3], 'y': [0.5,1,1.5,0.5,0.5], 'type': 'scatter'}\n",
    "\n",
    "new_tagging_event = {\n",
    "    'tagger_id': 'username',\n",
    "    'run_time': str(datetime.utcnow())\n",
    "}\n",
    "response = requests.post(f'{SPLASH_URI}/events', json=new_tagging_event)\n",
    "event_id2 = response.json()['uid']"
   ]
  },
  {
   "cell_type": "markdown",
   "metadata": {},
   "source": [
    "### Add new tag to existing dataset"
   ]
  },
  {
   "cell_type": "code",
   "execution_count": 49,
   "metadata": {},
   "outputs": [
    {
     "name": "stdout",
     "output_type": "stream",
     "text": [
      "Status code: 200, the uids of the added tags are: ['9fdc594e-5906-4bae-8026-171a2057f540']\n"
     ]
    }
   ],
   "source": [
    "new_tags = [\n",
    "    {'name': 'class_name_3',\n",
    "     'event_id': event_id2,\n",
    "     'locator': {\n",
    "         'spec': 'plotly_annotation',\n",
    "         'path': mask3\n",
    "     }}\n",
    "]\n",
    "\n",
    "response = requests.patch(f'{SPLASH_URI}/datasets/{dataset_uid}/tags', \n",
    "                          json={'add_tags': new_tags})\n",
    "status = response.status_code\n",
    "tags_uids = response.json()\n",
    "print(f'Status code: {status}, the uids of the added tags are: {tags_uids[\"added_tags_uid\"]}')"
   ]
  },
  {
   "cell_type": "code",
   "execution_count": null,
   "metadata": {},
   "outputs": [],
   "source": []
  }
 ],
 "metadata": {
  "kernelspec": {
   "display_name": ".venv",
   "language": "python",
   "name": "python3"
  },
  "language_info": {
   "codemirror_mode": {
    "name": "ipython",
    "version": 3
   },
   "file_extension": ".py",
   "mimetype": "text/x-python",
   "name": "python",
   "nbconvert_exporter": "python",
   "pygments_lexer": "ipython3",
   "version": "3.11.2"
  },
  "orig_nbformat": 4
 },
 "nbformat": 4,
 "nbformat_minor": 2
}
