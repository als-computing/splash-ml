{
 "cells": [
  {
   "cell_type": "code",
   "execution_count": 20,
   "metadata": {},
   "outputs": [],
   "source": [
    "from datetime import datetime\n",
    "import requests"
   ]
  },
  {
   "cell_type": "code",
   "execution_count": 23,
   "metadata": {},
   "outputs": [],
   "source": [
    "file_uri = '/path/to/file'\n",
    "mask1 = {'fill': 'toself', 'x': [0, 1, 2, 0], 'y': [0, 2, 0, 0], 'type': 'scatter'}\n",
    "mask2 = {'fill': 'toself', 'x': [3,3,5,5,3], 'y': [0.5,1.5,1.5,0.5,0.5], 'type': 'scatter'}\n",
    "SPLASH_URI = 'http://localhost:8087/api/v0'"
   ]
  },
  {
   "cell_type": "markdown",
   "metadata": {},
   "source": [
    "### Posting a new tagging event for version control"
   ]
  },
  {
   "cell_type": "code",
   "execution_count": 24,
   "metadata": {},
   "outputs": [],
   "source": [
    "new_tagging_event = {\n",
    "    'tagger_id': 'username',\n",
    "    'run_time': str(datetime.utcnow())\n",
    "}\n",
    "response = requests.post(f'{SPLASH_URI}/events', json=new_tagging_event)\n",
    "event_id = response.json()['uid']"
   ]
  },
  {
   "cell_type": "markdown",
   "metadata": {},
   "source": [
    "### Posting a data set with a set of tags"
   ]
  },
  {
   "cell_type": "code",
   "execution_count": 31,
   "metadata": {},
   "outputs": [
    {
     "name": "stdout",
     "output_type": "stream",
     "text": [
      "Status code: 200, dataset uid: 20d6e416-fe40-4353-96c8-3dd815b00955\n"
     ]
    }
   ],
   "source": [
    "dataset = {\n",
    "    'uri': file_uri,\n",
    "    'type': 'file',\n",
    "    'project': 'project_id',    # Project ID groups a set of datasets\n",
    "    'tags': [\n",
    "        {'name': 'class_name_1',\n",
    "         'locator': {\n",
    "             'spec': 'plotly_annotation',\n",
    "             'path': mask1\n",
    "         },\n",
    "         'event_id': event_id},\n",
    "        {'name': 'class_name_2',\n",
    "         'locator': {\n",
    "             'spec': 'plotly_annotation',\n",
    "             'path': mask2\n",
    "         },\n",
    "         'event_id': event_id,\n",
    "        }\n",
    "    ]\n",
    "}\n",
    "\n",
    "response = requests.post(f'{SPLASH_URI}/datasets', json=dataset)\n",
    "status = response.status_code\n",
    "dataset_uid = response.json()['uid']\n",
    "print(f'Status code: {status}, dataset uid: {dataset_uid}')"
   ]
  },
  {
   "cell_type": "markdown",
   "metadata": {},
   "source": [
    "### Quering datasets"
   ]
  },
  {
   "cell_type": "code",
   "execution_count": 33,
   "metadata": {},
   "outputs": [
    {
     "name": "stdout",
     "output_type": "stream",
     "text": [
      "splash_dataset retrieved with query: [{'uid': '20d6e416-fe40-4353-96c8-3dd815b00955', 'schema_version': '1.2', 'project': 'project_id', 'type': 'file', 'uri': '/path/to/file', 'tags': [{'uid': '2a3d7431-cd2d-47ca-94e7-ff547351815e', 'name': 'class_name_1', 'locator': {'spec': 'plotly_annotation', 'path': {'fill': 'toself', 'x': [0, 1, 2, 0], 'y': [0, 2, 0, 0], 'type': 'scatter'}}, 'confidence': None, 'event_id': 'c0eb1f88-490d-4553-8c6d-ba00d2cfffb2'}, {'uid': 'b98ea082-6431-415c-bea2-dcb0c0a05edc', 'name': 'class_name_2', 'locator': {'spec': 'plotly_annotation', 'path': {'fill': 'toself', 'x': [3, 3, 5, 5, 3], 'y': [0.5, 1.5, 1.5, 0.5, 0.5], 'type': 'scatter'}}, 'confidence': None, 'event_id': 'c0eb1f88-490d-4553-8c6d-ba00d2cfffb2'}]}]\n"
     ]
    }
   ],
   "source": [
    "response = requests.get(f'{SPLASH_URI}/datasets', \n",
    "                        params={\"page[offset]\": 0,      # offset for query\n",
    "                                \"page[limit]\": 10,      # length of queried items\n",
    "                                \"uri\": file_uri,\n",
    "                                \"event_id\": event_id})\n",
    "splash_dataset = response.json()\n",
    "\n",
    "print(f'splash_dataset retrieved with query: {splash_dataset}')"
   ]
  },
  {
   "cell_type": "markdown",
   "metadata": {},
   "source": [
    "### New tagging event with new version of tags"
   ]
  },
  {
   "cell_type": "code",
   "execution_count": 34,
   "metadata": {},
   "outputs": [],
   "source": [
    "mask3 = {'fill': 'toself', 'x': [3,3,5,1,3], 'y': [0.5,1,1.5,0.5,0.5], 'type': 'scatter'}\n",
    "\n",
    "new_tagging_event = {\n",
    "    'tagger_id': 'username',\n",
    "    'run_time': str(datetime.utcnow())\n",
    "}\n",
    "response = requests.post(f'{SPLASH_URI}/events', json=new_tagging_event)\n",
    "event_id2 = response.json()['uid']"
   ]
  },
  {
   "cell_type": "markdown",
   "metadata": {},
   "source": [
    "### Add new tag to existing dataset"
   ]
  },
  {
   "cell_type": "code",
   "execution_count": 37,
   "metadata": {},
   "outputs": [
    {
     "name": "stdout",
     "output_type": "stream",
     "text": [
      "Status code: 200, the uids of the added tags are: ['dbca59a2-8db5-4a41-b6b8-91affdedcc41']\n"
     ]
    }
   ],
   "source": [
    "new_tags = [\n",
    "    {'name': 'class_name_3',\n",
    "     'event_id': event_id2,\n",
    "     'locator': {\n",
    "         'spec': 'plotly_annotation',\n",
    "         'path': mask3\n",
    "     }}\n",
    "]\n",
    "\n",
    "response = requests.patch(f'{SPLASH_URI}/datasets/{dataset_uid}/tags', \n",
    "                          json={'add_tags': new_tags})\n",
    "status = response.status_code\n",
    "tags_uids = response.json()\n",
    "print(f'Status code: {status}, the uids of the added tags are: {tags_uids[\"added_tags_uid\"]}')"
   ]
  },
  {
   "cell_type": "code",
   "execution_count": null,
   "metadata": {},
   "outputs": [],
   "source": []
  }
 ],
 "metadata": {
  "kernelspec": {
   "display_name": ".venv",
   "language": "python",
   "name": "python3"
  },
  "language_info": {
   "codemirror_mode": {
    "name": "ipython",
    "version": 3
   },
   "file_extension": ".py",
   "mimetype": "text/x-python",
   "name": "python",
   "nbconvert_exporter": "python",
   "pygments_lexer": "ipython3",
   "version": "3.11.2"
  },
  "orig_nbformat": 4
 },
 "nbformat": 4,
 "nbformat_minor": 2
}
